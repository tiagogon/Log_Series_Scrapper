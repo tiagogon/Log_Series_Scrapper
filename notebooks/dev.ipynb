{
 "cells": [
  {
   "cell_type": "code",
   "execution_count": null,
   "metadata": {},
   "outputs": [],
   "source": []
  },
  {
   "cell_type": "markdown",
   "metadata": {},
   "source": [
    "# Title\n",
    "\n",
    "this code run"
   ]
  },
  {
   "cell_type": "code",
   "execution_count": 29,
   "metadata": {},
   "outputs": [],
   "source": [
    "import requests\n",
    "from bs4 import BeautifulSoup\n",
    "\n",
    "# Get the page content\n",
    "url = 'https://tiags.space/log-branch/blwww/page/1/'\n",
    "response = requests.get(url)\n",
    "soup = BeautifulSoup(response.text, 'html.parser')\n",
    "\n",
    "def get_soup_from_url(url):\n",
    "    response = requests.get(url)\n",
    "    return BeautifulSoup(response.text, 'html.parser')\n",
    "\n",
    "\n",
    "# Extract the desired URL from the custom attribute (e.g., 'data-url')\n",
    "#image_urls = [img.get('data-url', img['src']) for img in images]"
   ]
  },
  {
   "cell_type": "code",
   "execution_count": 39,
   "metadata": {},
   "outputs": [
    {
     "data": {
      "text/plain": [
       "200"
      ]
     },
     "execution_count": 39,
     "metadata": {},
     "output_type": "execute_result"
    }
   ],
   "source": [
    "response.status_code"
   ]
  },
  {
   "cell_type": "code",
   "execution_count": 41,
   "metadata": {},
   "outputs": [
    {
     "data": {
      "text/plain": [
       "'O tiago e {var}'"
      ]
     },
     "execution_count": 41,
     "metadata": {},
     "output_type": "execute_result"
    }
   ],
   "source": [
    "var = \"urso\"\n",
    "\"O tiago e {var}\""
   ]
  },
  {
   "cell_type": "code",
   "execution_count": 42,
   "metadata": {},
   "outputs": [
    {
     "name": "stdout",
     "output_type": "stream",
     "text": [
      "https://tiags.space/log-branch/blwww/page/1/ 200\n",
      "https://tiags.space/log-branch/blwww/page/2/ 200\n",
      "https://tiags.space/log-branch/blwww/page/3/ 200\n",
      "https://tiags.space/log-branch/blwww/page/4/ 200\n",
      "https://tiags.space/log-branch/blwww/page/5/ 404\n"
     ]
    }
   ],
   "source": [
    "status_code = 200\n",
    "i = 1\n",
    "while status_code == 200:\n",
    "    url_test = f'https://tiags.space/log-branch/blwww/page/{i}/' # f-string permite subtituir variaveis \n",
    "\n",
    "    response = requests.get(url_test)\n",
    "\n",
    "    status_code = response.status_code\n",
    "\n",
    "    print(url_test, status_code)\n",
    "    i = i+1"
   ]
  },
  {
   "cell_type": "code",
   "execution_count": 35,
   "metadata": {},
   "outputs": [
    {
     "name": "stdout",
     "output_type": "stream",
     "text": [
      "\n",
      "\n",
      " https://tiags.space/log/grill/\n",
      "https://tiags.space/wp-content/uploads/2024/02/IMG_1081.jpg\n",
      "https://tiags.space/wp-content/uploads/2024/02/IMG_1040.jpg\n",
      "https://tiags.space/wp-content/uploads/2024/02/IMG_0888.jpg\n",
      "https://tiags.space/wp-content/uploads/2024/02/IMG_2622.jpg\n",
      "\n",
      "\n",
      " https://tiags.space/log/bad-weather/\n",
      "https://tiags.space/wp-content/uploads/2024/02/IMG_2045.jpg\n",
      "https://tiags.space/wp-content/uploads/2024/02/IMG_0828.jpg\n",
      "https://tiags.space/wp-content/uploads/2024/02/IMG_0760.jpg\n",
      "https://tiags.space/wp-content/uploads/2024/02/IMG_0706.jpg\n",
      "\n",
      "\n",
      " https://tiags.space/log/ground/\n",
      "https://tiags.space/wp-content/uploads/2024/01/IMG_8435.jpg\n",
      "https://tiags.space/wp-content/uploads/2024/01/IMG_8429.jpg\n",
      "https://tiags.space/wp-content/uploads/2024/01/IMG_8437.jpg\n",
      "https://tiags.space/wp-content/uploads/2024/01/IMG_8438.jpg\n",
      "https://tiags.space/wp-content/uploads/2024/01/IMG_8439.jpg\n",
      "https://tiags.space/wp-content/uploads/2024/01/IMG_8436.jpg\n",
      "\n",
      "\n",
      " https://tiags.space/log/narcissus/\n",
      "https://tiags.space/wp-content/uploads/2024/01/IMG_8426.jpg\n",
      "https://tiags.space/wp-content/uploads/2024/01/IMG_8427.jpg\n",
      "\n",
      "\n",
      " https://tiags.space/log/giving/\n",
      "https://tiags.space/wp-content/uploads/2022/10/IMG_6921.jpg\n",
      "https://tiags.space/wp-content/uploads/2022/10/IMG_8221.jpg\n",
      "https://tiags.space/wp-content/uploads/2021/11/1D38AEA3-7C35-4535-9B21-7C4C8F5F0B1A.jpg\n",
      "https://tiags.space/wp-content/uploads/2022/07/57D6683E-4D6C-4F48-802F-3BC85A3D63C5.jpg\n",
      "\n",
      "\n",
      " https://tiags.space/log/standing/\n",
      "https://tiags.space/wp-content/uploads/2022/12/3CBDCD5D-0EDA-401D-9706-AF503DFDEC20.jpg\n",
      "https://tiags.space/wp-content/uploads/2022/12/FA4DD6EC-A2F9-482B-B948-BAFC9F3D4F62.jpg\n",
      "https://tiags.space/wp-content/uploads/2022/10/187706DF-8577-4B69-9D5A-7FDB7137751B.jpg\n",
      "https://tiags.space/wp-content/uploads/2022/12/7544F883-3165-4988-A08A-A3B1735923F9.jpg\n",
      "\n",
      "\n",
      " https://tiags.space/log/trespassing/\n",
      "https://tiags.space/wp-content/uploads/2021/11/A1A703A3-384E-480D-BDB6-6D4500677562.jpg\n",
      "https://tiags.space/wp-content/uploads/2021/11/87FF2BF8-7063-428B-92C7-4A7D9BFFDD2B.jpg\n",
      "https://tiags.space/wp-content/uploads/2021/11/ED6F095C-5667-493E-8953-DF0D8497615E.jpg\n",
      "https://tiags.space/wp-content/uploads/2021/11/515FDFD1-F7EB-42EF-A74D-8669A30A3F15.jpg\n",
      "\n",
      "\n",
      " https://tiags.space/log/holding/\n",
      "https://tiags.space/wp-content/uploads/2021/11/79097AE3-BD9B-47E1-8323-5B07B3AF21AC.jpg\n",
      "https://tiags.space/wp-content/uploads/2021/11/F609B184-1B5C-443E-A8F5-9603DAAFC04E.jpg\n",
      "https://tiags.space/wp-content/uploads/2021/11/A068212E-2D36-433C-9601-46653FD82CC7.jpg\n",
      "https://tiags.space/wp-content/uploads/2021/11/C7CDA5FB-D416-40CF-BDBC-7273ECEEA177.jpg\n",
      "\n",
      "\n",
      " https://tiags.space/log/alfabeto/\n",
      "https://tiags.space/wp-content/uploads/2023/02/smoke_1_2023_at_tiags_dot_space.jpg\n",
      "https://tiags.space/wp-content/uploads/2022/12/BD2C039E-ED62-40E2-8549-6F88749A33CD.jpg\n",
      "https://tiags.space/wp-content/uploads/2021/11/2206CEAA-9920-4F39-92C6-7E7F6DF9FA52.jpg\n",
      "\n",
      "\n",
      " https://tiags.space/log/monobloc/\n",
      "https://tiags.space/wp-content/uploads/2022/07/C0D4DEB7-367F-4414-BD1B-ECBAB7FE3A86.jpg\n",
      "https://tiags.space/wp-content/uploads/2022/12/5D4D16BA-EE36-4293-8FD7-FC738C94D3F0.jpg\n",
      "\n",
      "\n",
      " https://tiags.space/log/pavilion-i/\n",
      "https://tiags.space/wp-content/uploads/2021/11/B276A1A7-FD7F-4C1C-89FE-9D84F09F64A0.jpg\n",
      "https://tiags.space/wp-content/uploads/2022/07/3438AB4C-5233-411A-91B0-A54E0AC4F08A.jpg\n",
      "https://tiags.space/wp-content/uploads/2022/07/F561A56A-3EF3-4EE8-8C6F-50D742B0A6CC.jpg\n",
      "https://tiags.space/wp-content/uploads/2022/07/6A7483F9-92BF-4B23-982F-41FBD7E807A9.jpg\n",
      "\n",
      "\n",
      " https://tiags.space/log/pavilion-ii/\n",
      "https://tiags.space/wp-content/uploads/2022/07/1DCBBF73-AF29-4D49-980D-E63658386C97.jpg\n",
      "https://tiags.space/wp-content/uploads/2022/07/35AB6936-23A6-42D4-A5C4-1A47DE5175F0.jpg\n",
      "https://tiags.space/wp-content/uploads/2022/07/D2B31DFE-CC51-4523-9702-A0166EDA5492.jpg\n",
      "https://tiags.space/wp-content/uploads/2022/07/7EC79A88-E67A-4479-B04C-139486436BDF.jpg\n",
      "\n",
      "\n",
      " https://tiags.space/log/nasr/\n",
      "https://tiags.space/wp-content/uploads/2021/11/57787C81-CBA9-414C-BD00-597E85AC8819.jpg\n",
      "https://tiags.space/wp-content/uploads/2021/11/FDC52239-BEE7-4A56-83FF-B43C2026CCEC.jpg\n",
      "https://tiags.space/wp-content/uploads/2021/11/B2572C27-16C8-4905-AF25-70850A96B705.jpg\n",
      "https://tiags.space/wp-content/uploads/2021/11/A3363292-BF1B-491A-9BFE-0A4ABC7DF134.jpg\n",
      "\n",
      "\n",
      " https://tiags.space/log/c-t/\n",
      "https://tiags.space/wp-content/uploads/2021/11/F409742B-E9FC-4607-BFA2-6C6CA734B45A.jpg\n",
      "https://tiags.space/wp-content/uploads/2021/11/A3028B0A-8840-4B17-BB30-B7235A478E53.jpg\n",
      "https://tiags.space/wp-content/uploads/2021/11/E9152F32-CA05-49CB-968F-D46D7686C741.jpg\n",
      "https://tiags.space/wp-content/uploads/2021/11/882F0871-D4E9-4313-B6D3-E039585B211C.jpg\n",
      "\n",
      "\n",
      " https://tiags.space/log/verteidigen/\n",
      "https://tiags.space/wp-content/uploads/2021/02/755B73DE-D06C-46F6-9405-0AF2B9FB023A.jpg\n",
      "https://tiags.space/wp-content/uploads/2021/02/304B258B-4EF8-46CE-8982-610ADACEA688.jpg\n",
      "\n",
      "\n",
      " https://tiags.space/log/antifate-ii/\n",
      "https://tiags.space/wp-content/uploads/2021/05/0500DAA8-10C6-4DF1-BFFF-EB75D4EC2266.jpg\n",
      "https://tiags.space/wp-content/uploads/2021/02/820EDDBD-131B-4EA8-B346-01F751DEA0F1.jpg\n",
      "https://tiags.space/wp-content/uploads/2021/02/518CB605-B7BD-45DF-99A7-C1860C604E38.jpg\n",
      "https://tiags.space/wp-content/uploads/2020/01/23875DA9-3E6E-4AAE-AA96-7A3317109528.jpg\n",
      "\n",
      "\n",
      " https://tiags.space/log/antifate-i/\n",
      "https://tiags.space/wp-content/uploads/2020/01/68055F5B-1E7F-42F3-8987-D508944260C1.jpg\n",
      "https://tiags.space/wp-content/uploads/2020/11/8C748072-3AFB-4BEC-B360-0549F31BD89D.jpg\n",
      "https://tiags.space/wp-content/uploads/2021/02/0482C93B-8B38-4930-8DB7-690564E15637.jpg\n",
      "https://tiags.space/wp-content/uploads/2020/01/1E592453-D09D-4469-A57B-4C538978342B.png\n",
      "\n",
      "\n",
      " https://tiags.space/log/still-here-ii/\n",
      "https://tiags.space/wp-content/uploads/2021/02/ADA3F620-6E28-416C-B091-E39BEDB29E40.jpg\n",
      "https://tiags.space/wp-content/uploads/2021/02/7949C994-935E-457B-B7FE-61C63596EFA3.jpg\n",
      "https://tiags.space/wp-content/uploads/2021/02/80C2261D-C04A-4CD7-919C-8806C4589F2F.jpg\n",
      "https://tiags.space/wp-content/uploads/2021/02/86575CFF-6390-4BBD-BCB2-D47094A697CE.jpg\n",
      "\n",
      "\n",
      " https://tiags.space/log/still-here-i/\n",
      "https://tiags.space/wp-content/uploads/2021/03/5D9F2D65-FF9A-4AE1-B03D-38019C2A3FCA.jpg\n",
      "https://tiags.space/wp-content/uploads/2021/02/FE0FBD23-2531-4A0D-B97D-829C20080CBF.jpg\n",
      "https://tiags.space/wp-content/uploads/2021/02/BF15635B-082F-43DC-B6C6-9F9BEDA7A376.jpg\n",
      "https://tiags.space/wp-content/uploads/2021/03/31695859-C600-4C60-8AB4-DE00AD8AEA1F.jpg\n",
      "\n",
      "\n",
      " https://tiags.space/log/venus-redux-ii/\n",
      "https://tiags.space/wp-content/uploads/2020/01/1AD678B4-3D9D-496F-8B57-1E0A33987D6E.jpg\n",
      "https://tiags.space/wp-content/uploads/2020/01/522443E6-EB72-454A-A236-36603971F286.jpg\n",
      "https://tiags.space/wp-content/uploads/2020/01/1D122D13-1434-46EF-80B4-8B52B83A5DEF.jpg\n",
      "https://tiags.space/wp-content/uploads/2020/01/93D2FE7F-66CB-4A34-A4B9-493FD50C0EA8.jpg\n"
     ]
    }
   ],
   "source": [
    "all_title_pages = soup.find_all(\"h1\", class_=\"single-title\") \n",
    "\n",
    "for page in all_title_pages:\n",
    "\n",
    "    print(\"\\n\\n\", page.find(\"a\")[\"href\"])\n",
    "    page_url = page.find(\"a\")[\"href\"]\n",
    "    page_soup = get_soup_from_url(page_url)\n",
    "\n",
    "    page_soup = page_soup.find(\"div\", class_=\"container-gallery\")\n",
    "\n",
    "    # Find all image tags\n",
    "    images = page_soup.find_all('img')\n",
    "\n",
    "    for img in images:\n",
    "        print(img[\"srcset\"].rsplit(\", \", 1 )[-1].split(\" \")[0])\n",
    "\n",
    "    #break\n",
    "    "
   ]
  },
  {
   "cell_type": "code",
   "execution_count": 33,
   "metadata": {},
   "outputs": [
    {
     "data": {
      "text/plain": [
       "<div class=\"container-fluid container-gallery\"><div class=\"gallery clearfix row no-pad\" id=\"gallery-33986\" itemscope=\"\" itemtype=\"http://schema.org/ImageGallery\"><div attachment_field_diferent_size_on_gallery=\"1\" attachmentid=\"33871\" attachmentorder=\"70\" class=\"thumbnail item col-24 col-sm-12 attachmen-1\"><figure itemprop=\"associatedMedia\" itemscope=\"\" itemtype=\"http://schema.org/ImageObject\" style=\"\"><div class=\"imgcontainer\" style=\"position: relative; padding-bottom: 216.53333333333%; height: 0; overflow: hidden; max-width: 100%;\"> <img alt=\"Grill – 1\" class=\"\" data-image=\" \" itemprop=\"http://schema.org/image\" sizes=\"(min-width: 992px) 25vw, (min-width: 768px) 25vw, (min-width: 576px) 25vw, 50vw\" srcset=\"https://tiags.space/wp-content/uploads/2024/02/IMG_1081-443x960.jpg 443w, https://tiags.space/wp-content/uploads/2024/02/IMG_1081-665x1440.jpg 665w, https://tiags.space/wp-content/uploads/2024/02/IMG_1081-868x1880.jpg 868w, https://tiags.space/wp-content/uploads/2024/02/IMG_1081-1108x2400.jpg 1108w, https://tiags.space/wp-content/uploads/2024/02/IMG_1081.jpg 1125w\"/></div></figure></div><div attachment_field_diferent_size_on_gallery=\"1\" attachmentid=\"33873\" attachmentorder=\"71\" class=\"thumbnail item col-24 col-sm-12 attachmen-2\"><figure itemprop=\"associatedMedia\" itemscope=\"\" itemtype=\"http://schema.org/ImageObject\" style=\"\"><div class=\"imgcontainer\" style=\"position: relative; padding-bottom: 216.53333333333%; height: 0; overflow: hidden; max-width: 100%;\"> <img alt=\"Grill – 2\" class=\"\" data-image=\" \" itemprop=\"http://schema.org/image\" sizes=\"(min-width: 992px) 25vw, (min-width: 768px) 25vw, (min-width: 576px) 25vw, 50vw\" srcset=\"https://tiags.space/wp-content/uploads/2024/02/IMG_1040-443x960.jpg 443w, https://tiags.space/wp-content/uploads/2024/02/IMG_1040-665x1440.jpg 665w, https://tiags.space/wp-content/uploads/2024/02/IMG_1040-868x1880.jpg 868w, https://tiags.space/wp-content/uploads/2024/02/IMG_1040-1108x2400.jpg 1108w, https://tiags.space/wp-content/uploads/2024/02/IMG_1040.jpg 1125w\"/></div></figure></div><div attachment_field_diferent_size_on_gallery=\"1\" attachmentid=\"33875\" attachmentorder=\"72\" class=\"thumbnail item col-24 col-sm-12 attachmen-3\"><figure itemprop=\"associatedMedia\" itemscope=\"\" itemtype=\"http://schema.org/ImageObject\" style=\"\"><div class=\"imgcontainer\" style=\"position: relative; padding-bottom: 216.53333333333%; height: 0; overflow: hidden; max-width: 100%;\"> <img alt=\"Grill – 3\" class=\"\" data-image=\" \" itemprop=\"http://schema.org/image\" sizes=\"(min-width: 992px) 25vw, (min-width: 768px) 25vw, (min-width: 576px) 25vw, 50vw\" srcset=\"https://tiags.space/wp-content/uploads/2024/02/IMG_0888-443x960.jpg 443w, https://tiags.space/wp-content/uploads/2024/02/IMG_0888-665x1440.jpg 665w, https://tiags.space/wp-content/uploads/2024/02/IMG_0888-868x1880.jpg 868w, https://tiags.space/wp-content/uploads/2024/02/IMG_0888-1108x2400.jpg 1108w, https://tiags.space/wp-content/uploads/2024/02/IMG_0888.jpg 1125w\"/></div></figure></div><div attachment_field_diferent_size_on_gallery=\"1\" attachmentid=\"33891\" attachmentorder=\"74\" class=\"thumbnail item col-24 col-sm-12 attachmen-4\"><figure itemprop=\"associatedMedia\" itemscope=\"\" itemtype=\"http://schema.org/ImageObject\" style=\"\"><div class=\"imgcontainer\" style=\"position: relative; padding-bottom: 216.53333333333%; height: 0; overflow: hidden; max-width: 100%;\"> <img alt=\"Grill – 4\" class=\"\" data-image=\" \" itemprop=\"http://schema.org/image\" sizes=\"(min-width: 992px) 25vw, (min-width: 768px) 25vw, (min-width: 576px) 25vw, 50vw\" srcset=\"https://tiags.space/wp-content/uploads/2024/02/IMG_2622-443x960.jpg 443w, https://tiags.space/wp-content/uploads/2024/02/IMG_2622-665x1440.jpg 665w, https://tiags.space/wp-content/uploads/2024/02/IMG_2622-868x1880.jpg 868w, https://tiags.space/wp-content/uploads/2024/02/IMG_2622-1108x2400.jpg 1108w, https://tiags.space/wp-content/uploads/2024/02/IMG_2622.jpg 1125w\"/></div></figure></div></div></div>"
      ]
     },
     "execution_count": 33,
     "metadata": {},
     "output_type": "execute_result"
    }
   ],
   "source": [
    "page_soup.find(\"div\", class_=\"container-gallery\")"
   ]
  },
  {
   "cell_type": "code",
   "execution_count": null,
   "metadata": {},
   "outputs": [],
   "source": []
  },
  {
   "cell_type": "code",
   "execution_count": 27,
   "metadata": {},
   "outputs": [
    {
     "data": {
      "text/plain": [
       "<a href=\"https://tiags.space/log/grill/\">Grill</a>"
      ]
     },
     "execution_count": 27,
     "metadata": {},
     "output_type": "execute_result"
    }
   ],
   "source": [
    "page.find(\"a\")"
   ]
  },
  {
   "cell_type": "code",
   "execution_count": 13,
   "metadata": {},
   "outputs": [
    {
     "name": "stdout",
     "output_type": "stream",
     "text": [
      "https://tiags.space/wp-content/uploads/2024/02/IMG_1081.jpg\n",
      "https://tiags.space/wp-content/uploads/2024/02/IMG_1040.jpg\n",
      "https://tiags.space/wp-content/uploads/2024/02/IMG_0888.jpg\n",
      "https://tiags.space/wp-content/uploads/2024/02/IMG_2622.jpg\n",
      "https://tiags.space/wp-content/uploads/2024/02/IMG_2045.jpg\n",
      "https://tiags.space/wp-content/uploads/2024/02/IMG_0828.jpg\n",
      "https://tiags.space/wp-content/uploads/2024/02/IMG_0760.jpg\n",
      "https://tiags.space/wp-content/uploads/2024/02/IMG_0706.jpg\n",
      "https://tiags.space/wp-content/uploads/2024/01/IMG_8435.jpg\n",
      "https://tiags.space/wp-content/uploads/2024/01/IMG_8429.jpg\n",
      "https://tiags.space/wp-content/uploads/2024/01/IMG_8437.jpg\n",
      "https://tiags.space/wp-content/uploads/2024/01/IMG_8438.jpg\n",
      "https://tiags.space/wp-content/uploads/2024/01/IMG_8439.jpg\n",
      "https://tiags.space/wp-content/uploads/2024/01/IMG_8436.jpg\n",
      "https://tiags.space/wp-content/uploads/2024/01/IMG_8426.jpg\n",
      "https://tiags.space/wp-content/uploads/2024/01/IMG_8427.jpg\n",
      "https://tiags.space/wp-content/uploads/2022/10/IMG_6921.jpg\n",
      "https://tiags.space/wp-content/uploads/2022/10/IMG_8221.jpg\n",
      "https://tiags.space/wp-content/uploads/2021/11/1D38AEA3-7C35-4535-9B21-7C4C8F5F0B1A.jpg\n",
      "https://tiags.space/wp-content/uploads/2022/07/57D6683E-4D6C-4F48-802F-3BC85A3D63C5.jpg\n",
      "https://tiags.space/wp-content/uploads/2022/12/3CBDCD5D-0EDA-401D-9706-AF503DFDEC20.jpg\n",
      "https://tiags.space/wp-content/uploads/2022/12/FA4DD6EC-A2F9-482B-B948-BAFC9F3D4F62.jpg\n",
      "https://tiags.space/wp-content/uploads/2022/10/187706DF-8577-4B69-9D5A-7FDB7137751B.jpg\n",
      "https://tiags.space/wp-content/uploads/2022/12/7544F883-3165-4988-A08A-A3B1735923F9.jpg\n",
      "https://tiags.space/wp-content/uploads/2021/11/A1A703A3-384E-480D-BDB6-6D4500677562.jpg\n",
      "https://tiags.space/wp-content/uploads/2021/11/87FF2BF8-7063-428B-92C7-4A7D9BFFDD2B.jpg\n",
      "https://tiags.space/wp-content/uploads/2021/11/ED6F095C-5667-493E-8953-DF0D8497615E.jpg\n",
      "https://tiags.space/wp-content/uploads/2021/11/515FDFD1-F7EB-42EF-A74D-8669A30A3F15.jpg\n",
      "https://tiags.space/wp-content/uploads/2021/11/79097AE3-BD9B-47E1-8323-5B07B3AF21AC.jpg\n",
      "https://tiags.space/wp-content/uploads/2021/11/F609B184-1B5C-443E-A8F5-9603DAAFC04E.jpg\n",
      "https://tiags.space/wp-content/uploads/2021/11/A068212E-2D36-433C-9601-46653FD82CC7.jpg\n",
      "https://tiags.space/wp-content/uploads/2021/11/C7CDA5FB-D416-40CF-BDBC-7273ECEEA177.jpg\n",
      "https://tiags.space/wp-content/uploads/2023/02/smoke_1_2023_at_tiags_dot_space.jpg\n",
      "https://tiags.space/wp-content/uploads/2022/12/BD2C039E-ED62-40E2-8549-6F88749A33CD.jpg\n",
      "https://tiags.space/wp-content/uploads/2021/11/2206CEAA-9920-4F39-92C6-7E7F6DF9FA52.jpg\n",
      "https://tiags.space/wp-content/uploads/2022/07/C0D4DEB7-367F-4414-BD1B-ECBAB7FE3A86.jpg\n",
      "https://tiags.space/wp-content/uploads/2022/12/5D4D16BA-EE36-4293-8FD7-FC738C94D3F0.jpg\n",
      "https://tiags.space/wp-content/uploads/2021/11/B276A1A7-FD7F-4C1C-89FE-9D84F09F64A0.jpg\n",
      "https://tiags.space/wp-content/uploads/2022/07/3438AB4C-5233-411A-91B0-A54E0AC4F08A.jpg\n",
      "https://tiags.space/wp-content/uploads/2022/07/F561A56A-3EF3-4EE8-8C6F-50D742B0A6CC.jpg\n",
      "https://tiags.space/wp-content/uploads/2022/07/6A7483F9-92BF-4B23-982F-41FBD7E807A9.jpg\n",
      "https://tiags.space/wp-content/uploads/2022/07/1DCBBF73-AF29-4D49-980D-E63658386C97.jpg\n",
      "https://tiags.space/wp-content/uploads/2022/07/35AB6936-23A6-42D4-A5C4-1A47DE5175F0.jpg\n",
      "https://tiags.space/wp-content/uploads/2022/07/D2B31DFE-CC51-4523-9702-A0166EDA5492.jpg\n",
      "https://tiags.space/wp-content/uploads/2022/07/7EC79A88-E67A-4479-B04C-139486436BDF.jpg\n",
      "https://tiags.space/wp-content/uploads/2021/11/57787C81-CBA9-414C-BD00-597E85AC8819.jpg\n",
      "https://tiags.space/wp-content/uploads/2021/11/FDC52239-BEE7-4A56-83FF-B43C2026CCEC.jpg\n",
      "https://tiags.space/wp-content/uploads/2021/11/B2572C27-16C8-4905-AF25-70850A96B705.jpg\n",
      "https://tiags.space/wp-content/uploads/2021/11/A3363292-BF1B-491A-9BFE-0A4ABC7DF134.jpg\n",
      "https://tiags.space/wp-content/uploads/2021/11/F409742B-E9FC-4607-BFA2-6C6CA734B45A.jpg\n",
      "https://tiags.space/wp-content/uploads/2021/11/A3028B0A-8840-4B17-BB30-B7235A478E53.jpg\n",
      "https://tiags.space/wp-content/uploads/2021/11/E9152F32-CA05-49CB-968F-D46D7686C741.jpg\n",
      "https://tiags.space/wp-content/uploads/2021/11/882F0871-D4E9-4313-B6D3-E039585B211C.jpg\n",
      "https://tiags.space/wp-content/uploads/2021/02/755B73DE-D06C-46F6-9405-0AF2B9FB023A.jpg\n",
      "https://tiags.space/wp-content/uploads/2021/02/304B258B-4EF8-46CE-8982-610ADACEA688.jpg\n",
      "https://tiags.space/wp-content/uploads/2021/05/0500DAA8-10C6-4DF1-BFFF-EB75D4EC2266.jpg\n",
      "https://tiags.space/wp-content/uploads/2021/02/820EDDBD-131B-4EA8-B346-01F751DEA0F1.jpg\n",
      "https://tiags.space/wp-content/uploads/2021/02/518CB605-B7BD-45DF-99A7-C1860C604E38.jpg\n",
      "https://tiags.space/wp-content/uploads/2020/01/23875DA9-3E6E-4AAE-AA96-7A3317109528.jpg\n",
      "https://tiags.space/wp-content/uploads/2020/01/68055F5B-1E7F-42F3-8987-D508944260C1.jpg\n",
      "https://tiags.space/wp-content/uploads/2020/11/8C748072-3AFB-4BEC-B360-0549F31BD89D.jpg\n",
      "https://tiags.space/wp-content/uploads/2021/02/0482C93B-8B38-4930-8DB7-690564E15637.jpg\n",
      "https://tiags.space/wp-content/uploads/2020/01/1E592453-D09D-4469-A57B-4C538978342B.png\n",
      "https://tiags.space/wp-content/uploads/2021/02/ADA3F620-6E28-416C-B091-E39BEDB29E40.jpg\n",
      "https://tiags.space/wp-content/uploads/2021/02/7949C994-935E-457B-B7FE-61C63596EFA3.jpg\n",
      "https://tiags.space/wp-content/uploads/2021/02/80C2261D-C04A-4CD7-919C-8806C4589F2F.jpg\n",
      "https://tiags.space/wp-content/uploads/2021/02/86575CFF-6390-4BBD-BCB2-D47094A697CE.jpg\n",
      "https://tiags.space/wp-content/uploads/2021/03/5D9F2D65-FF9A-4AE1-B03D-38019C2A3FCA.jpg\n",
      "https://tiags.space/wp-content/uploads/2021/02/FE0FBD23-2531-4A0D-B97D-829C20080CBF.jpg\n",
      "https://tiags.space/wp-content/uploads/2021/02/BF15635B-082F-43DC-B6C6-9F9BEDA7A376.jpg\n",
      "https://tiags.space/wp-content/uploads/2021/03/31695859-C600-4C60-8AB4-DE00AD8AEA1F.jpg\n",
      "https://tiags.space/wp-content/uploads/2020/01/1AD678B4-3D9D-496F-8B57-1E0A33987D6E.jpg\n",
      "https://tiags.space/wp-content/uploads/2020/01/522443E6-EB72-454A-A236-36603971F286.jpg\n",
      "https://tiags.space/wp-content/uploads/2020/01/1D122D13-1434-46EF-80B4-8B52B83A5DEF.jpg\n",
      "https://tiags.space/wp-content/uploads/2020/01/93D2FE7F-66CB-4A34-A4B9-493FD50C0EA8.jpg\n"
     ]
    }
   ],
   "source": [
    "\n",
    "# Find all image tags\n",
    "images = soup.find_all('img')\n",
    "\n",
    "for img in images:\n",
    "    print(img[\"srcset\"].rsplit(\", \", 1 )[-1].split(\" \")[0])\n",
    "    "
   ]
  },
  {
   "cell_type": "code",
   "execution_count": 1,
   "metadata": {},
   "outputs": [
    {
     "name": "stdout",
     "output_type": "stream",
     "text": [
      "fff\n"
     ]
    }
   ],
   "source": [
    "print(\"fff\")"
   ]
  },
  {
   "cell_type": "code",
   "execution_count": null,
   "metadata": {},
   "outputs": [],
   "source": []
  }
 ],
 "metadata": {
  "kernelspec": {
   "display_name": ".venv",
   "language": "python",
   "name": "python3"
  },
  "language_info": {
   "codemirror_mode": {
    "name": "ipython",
    "version": 3
   },
   "file_extension": ".py",
   "mimetype": "text/x-python",
   "name": "python",
   "nbconvert_exporter": "python",
   "pygments_lexer": "ipython3",
   "version": "3.12.8"
  }
 },
 "nbformat": 4,
 "nbformat_minor": 2
}
